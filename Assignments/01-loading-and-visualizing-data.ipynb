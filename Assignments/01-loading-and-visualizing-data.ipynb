{
 "cells": [
  {
   "cell_type": "code",
   "execution_count": 1,
   "id": "a4037035",
   "metadata": {},
   "outputs": [
    {
     "name": "stdout",
     "output_type": "stream",
     "text": [
      "Requirement already satisfied: affine==2.4.0 in /opt/miniconda3/envs/cdp/lib/python3.12/site-packages (from -r requirements.txt (line 1)) (2.4.0)\n",
      "Requirement already satisfied: aniso8601==10.0.1 in /opt/miniconda3/envs/cdp/lib/python3.12/site-packages (from -r requirements.txt (line 2)) (10.0.1)\n",
      "Requirement already satisfied: annotated-types==0.7.0 in /opt/miniconda3/envs/cdp/lib/python3.12/site-packages (from -r requirements.txt (line 3)) (0.7.0)\n",
      "Requirement already satisfied: anyio==4.9.0 in /opt/miniconda3/envs/cdp/lib/python3.12/site-packages (from -r requirements.txt (line 4)) (4.9.0)\n",
      "Requirement already satisfied: anywidget==0.9.18 in /opt/miniconda3/envs/cdp/lib/python3.12/site-packages (from -r requirements.txt (line 5)) (0.9.18)\n",
      "Requirement already satisfied: appdirs==1.4.4 in /opt/miniconda3/envs/cdp/lib/python3.12/site-packages (from -r requirements.txt (line 6)) (1.4.4)\n",
      "Requirement already satisfied: appnope==0.1.4 in /opt/miniconda3/envs/cdp/lib/python3.12/site-packages (from -r requirements.txt (line 7)) (0.1.4)\n",
      "Requirement already satisfied: argon2-cffi==25.1.0 in /opt/miniconda3/envs/cdp/lib/python3.12/site-packages (from -r requirements.txt (line 8)) (25.1.0)\n",
      "Requirement already satisfied: argon2-cffi-bindings==21.2.0 in /opt/miniconda3/envs/cdp/lib/python3.12/site-packages (from -r requirements.txt (line 9)) (21.2.0)\n",
      "Requirement already satisfied: arro3-compute==0.5.1 in /opt/miniconda3/envs/cdp/lib/python3.12/site-packages (from -r requirements.txt (line 10)) (0.5.1)\n",
      "Requirement already satisfied: arro3-core==0.5.1 in /opt/miniconda3/envs/cdp/lib/python3.12/site-packages (from -r requirements.txt (line 11)) (0.5.1)\n",
      "Requirement already satisfied: arro3-io==0.5.1 in /opt/miniconda3/envs/cdp/lib/python3.12/site-packages (from -r requirements.txt (line 12)) (0.5.1)\n",
      "Requirement already satisfied: arrow==1.3.0 in /opt/miniconda3/envs/cdp/lib/python3.12/site-packages (from -r requirements.txt (line 13)) (1.3.0)\n",
      "Requirement already satisfied: astor==0.8.1 in /opt/miniconda3/envs/cdp/lib/python3.12/site-packages (from -r requirements.txt (line 14)) (0.8.1)\n",
      "Requirement already satisfied: asttokens==3.0.0 in /opt/miniconda3/envs/cdp/lib/python3.12/site-packages (from -r requirements.txt (line 15)) (3.0.0)\n",
      "Requirement already satisfied: attrs==25.3.0 in /opt/miniconda3/envs/cdp/lib/python3.12/site-packages (from -r requirements.txt (line 16)) (25.3.0)\n",
      "Requirement already satisfied: backoff==2.2.1 in /opt/miniconda3/envs/cdp/lib/python3.12/site-packages (from -r requirements.txt (line 17)) (2.2.1)\n",
      "Requirement already satisfied: beautifulsoup4==4.13.4 in /opt/miniconda3/envs/cdp/lib/python3.12/site-packages (from -r requirements.txt (line 18)) (4.13.4)\n",
      "Requirement already satisfied: bleach==6.2.0 in /opt/miniconda3/envs/cdp/lib/python3.12/site-packages (from -r requirements.txt (line 19)) (6.2.0)\n",
      "Requirement already satisfied: blinker==1.9.0 in /opt/miniconda3/envs/cdp/lib/python3.12/site-packages (from -r requirements.txt (line 20)) (1.9.0)\n",
      "Requirement already satisfied: bqplot==0.12.45 in /opt/miniconda3/envs/cdp/lib/python3.12/site-packages (from -r requirements.txt (line 21)) (0.12.45)\n",
      "Requirement already satisfied: branca==0.8.1 in /opt/miniconda3/envs/cdp/lib/python3.12/site-packages (from -r requirements.txt (line 22)) (0.8.1)\n",
      "Requirement already satisfied: cachelib==0.13.0 in /opt/miniconda3/envs/cdp/lib/python3.12/site-packages (from -r requirements.txt (line 23)) (0.13.0)\n",
      "Requirement already satisfied: cachetools==6.0.0 in /opt/miniconda3/envs/cdp/lib/python3.12/site-packages (from -r requirements.txt (line 24)) (6.0.0)\n",
      "Requirement already satisfied: certifi==2025.4.26 in /opt/miniconda3/envs/cdp/lib/python3.12/site-packages (from -r requirements.txt (line 25)) (2025.4.26)\n",
      "Requirement already satisfied: cffi==1.17.1 in /opt/miniconda3/envs/cdp/lib/python3.12/site-packages (from -r requirements.txt (line 26)) (1.17.1)\n",
      "Requirement already satisfied: charset-normalizer==3.4.2 in /opt/miniconda3/envs/cdp/lib/python3.12/site-packages (from -r requirements.txt (line 27)) (3.4.2)\n",
      "Requirement already satisfied: click==8.2.1 in /opt/miniconda3/envs/cdp/lib/python3.12/site-packages (from -r requirements.txt (line 28)) (8.2.1)\n",
      "Requirement already satisfied: click-plugins==1.1.1 in /opt/miniconda3/envs/cdp/lib/python3.12/site-packages (from -r requirements.txt (line 29)) (1.1.1)\n",
      "Requirement already satisfied: cligj==0.7.2 in /opt/miniconda3/envs/cdp/lib/python3.12/site-packages (from -r requirements.txt (line 30)) (0.7.2)\n",
      "Requirement already satisfied: color-operations==0.2.0 in /opt/miniconda3/envs/cdp/lib/python3.12/site-packages (from -r requirements.txt (line 31)) (0.2.0)\n",
      "Requirement already satisfied: comm==0.2.2 in /opt/miniconda3/envs/cdp/lib/python3.12/site-packages (from -r requirements.txt (line 32)) (0.2.2)\n",
      "Requirement already satisfied: contourpy==1.3.2 in /opt/miniconda3/envs/cdp/lib/python3.12/site-packages (from -r requirements.txt (line 33)) (1.3.2)\n",
      "Requirement already satisfied: cycler==0.12.1 in /opt/miniconda3/envs/cdp/lib/python3.12/site-packages (from -r requirements.txt (line 34)) (0.12.1)\n",
      "Requirement already satisfied: dateutils==0.6.12 in /opt/miniconda3/envs/cdp/lib/python3.12/site-packages (from -r requirements.txt (line 35)) (0.6.12)\n",
      "Requirement already satisfied: debugpy==1.8.14 in /opt/miniconda3/envs/cdp/lib/python3.12/site-packages (from -r requirements.txt (line 36)) (1.8.14)\n",
      "Requirement already satisfied: decorator==5.2.1 in /opt/miniconda3/envs/cdp/lib/python3.12/site-packages (from -r requirements.txt (line 37)) (5.2.1)\n",
      "Requirement already satisfied: defusedxml==0.7.1 in /opt/miniconda3/envs/cdp/lib/python3.12/site-packages (from -r requirements.txt (line 38)) (0.7.1)\n",
      "Requirement already satisfied: duckdb==1.3.0 in /opt/miniconda3/envs/cdp/lib/python3.12/site-packages (from -r requirements.txt (line 39)) (1.3.0)\n",
      "Requirement already satisfied: eval_type_backport==0.2.2 in /opt/miniconda3/envs/cdp/lib/python3.12/site-packages (from -r requirements.txt (line 40)) (0.2.2)\n",
      "Requirement already satisfied: executing==2.2.0 in /opt/miniconda3/envs/cdp/lib/python3.12/site-packages (from -r requirements.txt (line 41)) (2.2.0)\n",
      "Requirement already satisfied: fastjsonschema==2.21.1 in /opt/miniconda3/envs/cdp/lib/python3.12/site-packages (from -r requirements.txt (line 42)) (2.21.1)\n",
      "Requirement already satisfied: filelock==3.18.0 in /opt/miniconda3/envs/cdp/lib/python3.12/site-packages (from -r requirements.txt (line 43)) (3.18.0)\n",
      "Requirement already satisfied: Flask==3.1.1 in /opt/miniconda3/envs/cdp/lib/python3.12/site-packages (from -r requirements.txt (line 44)) (3.1.1)\n",
      "Requirement already satisfied: Flask-Caching==2.3.1 in /opt/miniconda3/envs/cdp/lib/python3.12/site-packages (from -r requirements.txt (line 45)) (2.3.1)\n",
      "Requirement already satisfied: flask-cors==6.0.1 in /opt/miniconda3/envs/cdp/lib/python3.12/site-packages (from -r requirements.txt (line 46)) (6.0.1)\n",
      "Requirement already satisfied: flask-restx==1.3.0 in /opt/miniconda3/envs/cdp/lib/python3.12/site-packages (from -r requirements.txt (line 47)) (1.3.0)\n",
      "Requirement already satisfied: folium==0.19.7 in /opt/miniconda3/envs/cdp/lib/python3.12/site-packages (from -r requirements.txt (line 48)) (0.19.7)\n",
      "Requirement already satisfied: fonttools==4.58.1 in /opt/miniconda3/envs/cdp/lib/python3.12/site-packages (from -r requirements.txt (line 49)) (4.58.1)\n",
      "Requirement already satisfied: fqdn==1.5.1 in /opt/miniconda3/envs/cdp/lib/python3.12/site-packages (from -r requirements.txt (line 50)) (1.5.1)\n",
      "Requirement already satisfied: gdown==5.2.0 in /opt/miniconda3/envs/cdp/lib/python3.12/site-packages (from -r requirements.txt (line 51)) (5.2.0)\n",
      "Requirement already satisfied: geojson==3.2.0 in /opt/miniconda3/envs/cdp/lib/python3.12/site-packages (from -r requirements.txt (line 52)) (3.2.0)\n",
      "Requirement already satisfied: geopandas==1.1.0 in /opt/miniconda3/envs/cdp/lib/python3.12/site-packages (from -r requirements.txt (line 53)) (1.1.0)\n",
      "Requirement already satisfied: greenlet==3.2.3 in /opt/miniconda3/envs/cdp/lib/python3.12/site-packages (from -r requirements.txt (line 54)) (3.2.3)\n",
      "Requirement already satisfied: gw_dsl_parser==0.1.49.1 in /opt/miniconda3/envs/cdp/lib/python3.12/site-packages (from -r requirements.txt (line 55)) (0.1.49.1)\n",
      "Requirement already satisfied: h11==0.16.0 in /opt/miniconda3/envs/cdp/lib/python3.12/site-packages (from -r requirements.txt (line 56)) (0.16.0)\n",
      "Requirement already satisfied: httpcore==1.0.9 in /opt/miniconda3/envs/cdp/lib/python3.12/site-packages (from -r requirements.txt (line 57)) (1.0.9)\n",
      "Requirement already satisfied: httpx==0.28.1 in /opt/miniconda3/envs/cdp/lib/python3.12/site-packages (from -r requirements.txt (line 58)) (0.28.1)\n",
      "Requirement already satisfied: idna==3.10 in /opt/miniconda3/envs/cdp/lib/python3.12/site-packages (from -r requirements.txt (line 59)) (3.10)\n",
      "Requirement already satisfied: importlib_resources==6.5.2 in /opt/miniconda3/envs/cdp/lib/python3.12/site-packages (from -r requirements.txt (line 60)) (6.5.2)\n",
      "Requirement already satisfied: ipyevents==2.0.2 in /opt/miniconda3/envs/cdp/lib/python3.12/site-packages (from -r requirements.txt (line 61)) (2.0.2)\n",
      "Requirement already satisfied: ipyfilechooser==0.6.0 in /opt/miniconda3/envs/cdp/lib/python3.12/site-packages (from -r requirements.txt (line 62)) (0.6.0)\n",
      "Requirement already satisfied: ipykernel==6.29.5 in /opt/miniconda3/envs/cdp/lib/python3.12/site-packages (from -r requirements.txt (line 63)) (6.29.5)\n",
      "Requirement already satisfied: ipylab==1.0.0 in /opt/miniconda3/envs/cdp/lib/python3.12/site-packages (from -r requirements.txt (line 64)) (1.0.0)\n",
      "Requirement already satisfied: ipyleaflet==0.20.0 in /opt/miniconda3/envs/cdp/lib/python3.12/site-packages (from -r requirements.txt (line 65)) (0.20.0)\n",
      "Requirement already satisfied: ipython==9.3.0 in /opt/miniconda3/envs/cdp/lib/python3.12/site-packages (from -r requirements.txt (line 66)) (9.3.0)\n",
      "Requirement already satisfied: ipython_pygments_lexers==1.1.1 in /opt/miniconda3/envs/cdp/lib/python3.12/site-packages (from -r requirements.txt (line 67)) (1.1.1)\n",
      "Requirement already satisfied: ipytree==0.2.2 in /opt/miniconda3/envs/cdp/lib/python3.12/site-packages (from -r requirements.txt (line 68)) (0.2.2)\n",
      "Requirement already satisfied: ipyvue==1.11.2 in /opt/miniconda3/envs/cdp/lib/python3.12/site-packages (from -r requirements.txt (line 69)) (1.11.2)\n",
      "Requirement already satisfied: ipyvuetify==1.11.2 in /opt/miniconda3/envs/cdp/lib/python3.12/site-packages (from -r requirements.txt (line 70)) (1.11.2)\n",
      "Requirement already satisfied: ipywidgets==8.1.7 in /opt/miniconda3/envs/cdp/lib/python3.12/site-packages (from -r requirements.txt (line 71)) (8.1.7)\n",
      "Requirement already satisfied: isoduration==20.11.0 in /opt/miniconda3/envs/cdp/lib/python3.12/site-packages (from -r requirements.txt (line 72)) (20.11.0)\n",
      "Requirement already satisfied: itsdangerous==2.2.0 in /opt/miniconda3/envs/cdp/lib/python3.12/site-packages (from -r requirements.txt (line 73)) (2.2.0)\n",
      "Requirement already satisfied: jedi==0.19.2 in /opt/miniconda3/envs/cdp/lib/python3.12/site-packages (from -r requirements.txt (line 74)) (0.19.2)\n",
      "Requirement already satisfied: Jinja2==3.1.6 in /opt/miniconda3/envs/cdp/lib/python3.12/site-packages (from -r requirements.txt (line 75)) (3.1.6)\n",
      "Requirement already satisfied: joblib==1.5.1 in /opt/miniconda3/envs/cdp/lib/python3.12/site-packages (from -r requirements.txt (line 76)) (1.5.1)\n",
      "Requirement already satisfied: jsonpointer==3.0.0 in /opt/miniconda3/envs/cdp/lib/python3.12/site-packages (from -r requirements.txt (line 77)) (3.0.0)\n",
      "Requirement already satisfied: jsonschema==4.24.0 in /opt/miniconda3/envs/cdp/lib/python3.12/site-packages (from -r requirements.txt (line 78)) (4.24.0)\n",
      "Requirement already satisfied: jsonschema-specifications==2025.4.1 in /opt/miniconda3/envs/cdp/lib/python3.12/site-packages (from -r requirements.txt (line 79)) (2025.4.1)\n",
      "Requirement already satisfied: jupyter-book==2.0.0a3 in /opt/miniconda3/envs/cdp/lib/python3.12/site-packages (from -r requirements.txt (line 80)) (2.0.0a3)\n",
      "Requirement already satisfied: jupyter-events==0.12.0 in /opt/miniconda3/envs/cdp/lib/python3.12/site-packages (from -r requirements.txt (line 81)) (0.12.0)\n",
      "Requirement already satisfied: jupyter-leaflet==0.20.0 in /opt/miniconda3/envs/cdp/lib/python3.12/site-packages (from -r requirements.txt (line 82)) (0.20.0)\n",
      "Requirement already satisfied: jupyter_client==8.6.3 in /opt/miniconda3/envs/cdp/lib/python3.12/site-packages (from -r requirements.txt (line 83)) (8.6.3)\n",
      "Requirement already satisfied: jupyter_core==5.8.1 in /opt/miniconda3/envs/cdp/lib/python3.12/site-packages (from -r requirements.txt (line 84)) (5.8.1)\n",
      "Requirement already satisfied: jupyter_server==2.16.0 in /opt/miniconda3/envs/cdp/lib/python3.12/site-packages (from -r requirements.txt (line 85)) (2.16.0)\n",
      "Requirement already satisfied: jupyter_server_terminals==0.5.3 in /opt/miniconda3/envs/cdp/lib/python3.12/site-packages (from -r requirements.txt (line 86)) (0.5.3)\n",
      "Requirement already satisfied: jupyterlab_pygments==0.3.0 in /opt/miniconda3/envs/cdp/lib/python3.12/site-packages (from -r requirements.txt (line 87)) (0.3.0)\n",
      "Requirement already satisfied: jupyterlab_widgets==3.0.15 in /opt/miniconda3/envs/cdp/lib/python3.12/site-packages (from -r requirements.txt (line 88)) (3.0.15)\n",
      "Requirement already satisfied: kanaries_track==0.0.5 in /opt/miniconda3/envs/cdp/lib/python3.12/site-packages (from -r requirements.txt (line 89)) (0.0.5)\n",
      "Requirement already satisfied: kiwisolver==1.4.8 in /opt/miniconda3/envs/cdp/lib/python3.12/site-packages (from -r requirements.txt (line 90)) (1.4.8)\n",
      "Requirement already satisfied: leafmap==0.48.5 in /opt/miniconda3/envs/cdp/lib/python3.12/site-packages (from -r requirements.txt (line 91)) (0.48.5)\n",
      "Requirement already satisfied: localtileserver==0.10.6 in /opt/miniconda3/envs/cdp/lib/python3.12/site-packages (from -r requirements.txt (line 92)) (0.10.6)\n",
      "Requirement already satisfied: lonboard==0.9.2 in /opt/miniconda3/envs/cdp/lib/python3.12/site-packages (from -r requirements.txt (line 93)) (0.9.2)\n",
      "Requirement already satisfied: mapclassify==2.9.0 in /opt/miniconda3/envs/cdp/lib/python3.12/site-packages (from -r requirements.txt (line 94)) (2.9.0)\n",
      "Requirement already satisfied: maplibre==0.3.4 in /opt/miniconda3/envs/cdp/lib/python3.12/site-packages (from -r requirements.txt (line 95)) (0.3.4)\n",
      "Requirement already satisfied: MarkupSafe==3.0.2 in /opt/miniconda3/envs/cdp/lib/python3.12/site-packages (from -r requirements.txt (line 96)) (3.0.2)\n",
      "Requirement already satisfied: matplotlib==3.10.3 in /opt/miniconda3/envs/cdp/lib/python3.12/site-packages (from -r requirements.txt (line 97)) (3.10.3)\n",
      "Requirement already satisfied: matplotlib-inline==0.1.7 in /opt/miniconda3/envs/cdp/lib/python3.12/site-packages (from -r requirements.txt (line 98)) (0.1.7)\n",
      "Requirement already satisfied: mistune==3.1.3 in /opt/miniconda3/envs/cdp/lib/python3.12/site-packages (from -r requirements.txt (line 99)) (3.1.3)\n",
      "Requirement already satisfied: monotonic==1.6 in /opt/miniconda3/envs/cdp/lib/python3.12/site-packages (from -r requirements.txt (line 100)) (1.6)\n",
      "Requirement already satisfied: morecantile==6.2.0 in /opt/miniconda3/envs/cdp/lib/python3.12/site-packages (from -r requirements.txt (line 101)) (6.2.0)\n",
      "Requirement already satisfied: mystmd==1.4.0 in /opt/miniconda3/envs/cdp/lib/python3.12/site-packages (from -r requirements.txt (line 102)) (1.4.0)\n",
      "Requirement already satisfied: narwhals==1.44.0 in /opt/miniconda3/envs/cdp/lib/python3.12/site-packages (from -r requirements.txt (line 103)) (1.44.0)\n",
      "Requirement already satisfied: nbclient==0.10.2 in /opt/miniconda3/envs/cdp/lib/python3.12/site-packages (from -r requirements.txt (line 104)) (0.10.2)\n",
      "Requirement already satisfied: nbconvert==7.16.6 in /opt/miniconda3/envs/cdp/lib/python3.12/site-packages (from -r requirements.txt (line 105)) (7.16.6)\n",
      "Requirement already satisfied: nbformat==5.10.4 in /opt/miniconda3/envs/cdp/lib/python3.12/site-packages (from -r requirements.txt (line 106)) (5.10.4)\n",
      "Requirement already satisfied: nest-asyncio==1.6.0 in /opt/miniconda3/envs/cdp/lib/python3.12/site-packages (from -r requirements.txt (line 107)) (1.6.0)\n",
      "Requirement already satisfied: networkx==3.5 in /opt/miniconda3/envs/cdp/lib/python3.12/site-packages (from -r requirements.txt (line 108)) (3.5)\n",
      "Requirement already satisfied: nodeenv==1.9.1 in /opt/miniconda3/envs/cdp/lib/python3.12/site-packages (from -r requirements.txt (line 109)) (1.9.1)\n",
      "Requirement already satisfied: numexpr==2.11.0 in /opt/miniconda3/envs/cdp/lib/python3.12/site-packages (from -r requirements.txt (line 110)) (2.11.0)\n",
      "Requirement already satisfied: numpy==2.2.6 in /opt/miniconda3/envs/cdp/lib/python3.12/site-packages (from -r requirements.txt (line 111)) (2.2.6)\n",
      "Requirement already satisfied: overrides==7.7.0 in /opt/miniconda3/envs/cdp/lib/python3.12/site-packages (from -r requirements.txt (line 112)) (7.7.0)\n",
      "Requirement already satisfied: packaging==25.0 in /opt/miniconda3/envs/cdp/lib/python3.12/site-packages (from -r requirements.txt (line 113)) (25.0)\n",
      "Requirement already satisfied: palettable==3.3.3 in /opt/miniconda3/envs/cdp/lib/python3.12/site-packages (from -r requirements.txt (line 114)) (3.3.3)\n",
      "Requirement already satisfied: pandas==2.2.3 in /opt/miniconda3/envs/cdp/lib/python3.12/site-packages (from -r requirements.txt (line 115)) (2.2.3)\n",
      "Requirement already satisfied: pandocfilters==1.5.1 in /opt/miniconda3/envs/cdp/lib/python3.12/site-packages (from -r requirements.txt (line 116)) (1.5.1)\n",
      "Requirement already satisfied: parso==0.8.4 in /opt/miniconda3/envs/cdp/lib/python3.12/site-packages (from -r requirements.txt (line 117)) (0.8.4)\n",
      "Requirement already satisfied: pexpect==4.9.0 in /opt/miniconda3/envs/cdp/lib/python3.12/site-packages (from -r requirements.txt (line 118)) (4.9.0)\n",
      "Requirement already satisfied: pillow==11.2.1 in /opt/miniconda3/envs/cdp/lib/python3.12/site-packages (from -r requirements.txt (line 119)) (11.2.1)\n",
      "Requirement already satisfied: platformdirs>=4.2.2 in /opt/miniconda3/envs/cdp/lib/python3.12/site-packages (from -r requirements.txt (line 120)) (4.2.2)\n",
      "Requirement already satisfied: plotly==6.2.0 in /opt/miniconda3/envs/cdp/lib/python3.12/site-packages (from -r requirements.txt (line 121)) (6.2.0)\n",
      "Requirement already satisfied: prometheus_client==0.22.1 in /opt/miniconda3/envs/cdp/lib/python3.12/site-packages (from -r requirements.txt (line 122)) (0.22.1)\n",
      "Requirement already satisfied: prompt_toolkit==3.0.51 in /opt/miniconda3/envs/cdp/lib/python3.12/site-packages (from -r requirements.txt (line 123)) (3.0.51)\n",
      "Requirement already satisfied: psutil==7.0.0 in /opt/miniconda3/envs/cdp/lib/python3.12/site-packages (from -r requirements.txt (line 124)) (7.0.0)\n",
      "Requirement already satisfied: psygnal==0.13.0 in /opt/miniconda3/envs/cdp/lib/python3.12/site-packages (from -r requirements.txt (line 125)) (0.13.0)\n",
      "Requirement already satisfied: ptyprocess==0.7.0 in /opt/miniconda3/envs/cdp/lib/python3.12/site-packages (from -r requirements.txt (line 126)) (0.7.0)\n",
      "Requirement already satisfied: pure_eval==0.2.3 in /opt/miniconda3/envs/cdp/lib/python3.12/site-packages (from -r requirements.txt (line 127)) (0.2.3)\n",
      "Requirement already satisfied: pyarrow==20.0.0 in /opt/miniconda3/envs/cdp/lib/python3.12/site-packages (from -r requirements.txt (line 128)) (20.0.0)\n",
      "Requirement already satisfied: pycparser==2.22 in /opt/miniconda3/envs/cdp/lib/python3.12/site-packages (from -r requirements.txt (line 129)) (2.22)\n",
      "Requirement already satisfied: pydantic==2.11.5 in /opt/miniconda3/envs/cdp/lib/python3.12/site-packages (from -r requirements.txt (line 130)) (2.11.5)\n",
      "Requirement already satisfied: pydantic_core==2.33.2 in /opt/miniconda3/envs/cdp/lib/python3.12/site-packages (from -r requirements.txt (line 131)) (2.33.2)\n",
      "Requirement already satisfied: pydeck==0.9.1 in /opt/miniconda3/envs/cdp/lib/python3.12/site-packages (from -r requirements.txt (line 132)) (0.9.1)\n",
      "Requirement already satisfied: Pygments==2.19.2 in /opt/miniconda3/envs/cdp/lib/python3.12/site-packages (from -r requirements.txt (line 133)) (2.19.2)\n",
      "Requirement already satisfied: pygwalker==0.4.9.15 in /opt/miniconda3/envs/cdp/lib/python3.12/site-packages (from -r requirements.txt (line 134)) (0.4.9.15)\n",
      "Requirement already satisfied: pyogrio==0.11.0 in /opt/miniconda3/envs/cdp/lib/python3.12/site-packages (from -r requirements.txt (line 135)) (0.11.0)\n",
      "Requirement already satisfied: pyparsing==3.2.3 in /opt/miniconda3/envs/cdp/lib/python3.12/site-packages (from -r requirements.txt (line 136)) (3.2.3)\n",
      "Requirement already satisfied: pyproj==3.7.1 in /opt/miniconda3/envs/cdp/lib/python3.12/site-packages (from -r requirements.txt (line 137)) (3.7.1)\n",
      "Requirement already satisfied: PySocks==1.7.1 in /opt/miniconda3/envs/cdp/lib/python3.12/site-packages (from -r requirements.txt (line 138)) (1.7.1)\n",
      "Requirement already satisfied: pystac==1.13.0 in /opt/miniconda3/envs/cdp/lib/python3.12/site-packages (from -r requirements.txt (line 139)) (1.13.0)\n",
      "Requirement already satisfied: pystac-client==0.8.6 in /opt/miniconda3/envs/cdp/lib/python3.12/site-packages (from -r requirements.txt (line 140)) (0.8.6)\n",
      "Requirement already satisfied: python-box==7.3.2 in /opt/miniconda3/envs/cdp/lib/python3.12/site-packages (from -r requirements.txt (line 141)) (7.3.2)\n",
      "Requirement already satisfied: python-dateutil==2.9.0.post0 in /opt/miniconda3/envs/cdp/lib/python3.12/site-packages (from -r requirements.txt (line 142)) (2.9.0.post0)\n",
      "Requirement already satisfied: python-json-logger==3.3.0 in /opt/miniconda3/envs/cdp/lib/python3.12/site-packages (from -r requirements.txt (line 143)) (3.3.0)\n",
      "Requirement already satisfied: pytz==2025.2 in /opt/miniconda3/envs/cdp/lib/python3.12/site-packages (from -r requirements.txt (line 144)) (2025.2)\n",
      "Requirement already satisfied: PyYAML==6.0.2 in /opt/miniconda3/envs/cdp/lib/python3.12/site-packages (from -r requirements.txt (line 145)) (6.0.2)\n",
      "Requirement already satisfied: pyzmq==27.0.0 in /opt/miniconda3/envs/cdp/lib/python3.12/site-packages (from -r requirements.txt (line 146)) (27.0.0)\n",
      "Requirement already satisfied: quickjs==1.19.4 in /opt/miniconda3/envs/cdp/lib/python3.12/site-packages (from -r requirements.txt (line 147)) (1.19.4)\n",
      "Requirement already satisfied: rasterio==1.4.3 in /opt/miniconda3/envs/cdp/lib/python3.12/site-packages (from -r requirements.txt (line 148)) (1.4.3)\n",
      "Requirement already satisfied: referencing==0.36.2 in /opt/miniconda3/envs/cdp/lib/python3.12/site-packages (from -r requirements.txt (line 149)) (0.36.2)\n",
      "Requirement already satisfied: requests==2.32.4 in /opt/miniconda3/envs/cdp/lib/python3.12/site-packages (from -r requirements.txt (line 150)) (2.32.4)\n",
      "Requirement already satisfied: rfc3339-validator==0.1.4 in /opt/miniconda3/envs/cdp/lib/python3.12/site-packages (from -r requirements.txt (line 151)) (0.1.4)\n",
      "Requirement already satisfied: rfc3986-validator==0.1.1 in /opt/miniconda3/envs/cdp/lib/python3.12/site-packages (from -r requirements.txt (line 152)) (0.1.1)\n",
      "Requirement already satisfied: rio-cogeo==5.4.2 in /opt/miniconda3/envs/cdp/lib/python3.12/site-packages (from -r requirements.txt (line 153)) (5.4.2)\n",
      "Requirement already satisfied: rio-tiler==7.8.1 in /opt/miniconda3/envs/cdp/lib/python3.12/site-packages (from -r requirements.txt (line 154)) (7.8.1)\n",
      "Requirement already satisfied: rioxarray==0.19.0 in /opt/miniconda3/envs/cdp/lib/python3.12/site-packages (from -r requirements.txt (line 155)) (0.19.0)\n",
      "Requirement already satisfied: rpds-py==0.25.1 in /opt/miniconda3/envs/cdp/lib/python3.12/site-packages (from -r requirements.txt (line 156)) (0.25.1)\n",
      "Requirement already satisfied: ruff==0.11.12 in /opt/miniconda3/envs/cdp/lib/python3.12/site-packages (from -r requirements.txt (line 157)) (0.11.12)\n",
      "Requirement already satisfied: scikit-learn==1.6.1 in /opt/miniconda3/envs/cdp/lib/python3.12/site-packages (from -r requirements.txt (line 158)) (1.6.1)\n",
      "Requirement already satisfied: scipy==1.15.3 in /opt/miniconda3/envs/cdp/lib/python3.12/site-packages (from -r requirements.txt (line 159)) (1.15.3)\n",
      "Requirement already satisfied: scooby==0.10.1 in /opt/miniconda3/envs/cdp/lib/python3.12/site-packages (from -r requirements.txt (line 160)) (0.10.1)\n",
      "Requirement already satisfied: segment-analytics-python==2.2.3 in /opt/miniconda3/envs/cdp/lib/python3.12/site-packages (from -r requirements.txt (line 161)) (2.2.3)\n",
      "Requirement already satisfied: Send2Trash==1.8.3 in /opt/miniconda3/envs/cdp/lib/python3.12/site-packages (from -r requirements.txt (line 162)) (1.8.3)\n",
      "Requirement already satisfied: server-thread==0.3.0 in /opt/miniconda3/envs/cdp/lib/python3.12/site-packages (from -r requirements.txt (line 163)) (0.3.0)\n",
      "Requirement already satisfied: setuptools==78.1.1 in /opt/miniconda3/envs/cdp/lib/python3.12/site-packages (from -r requirements.txt (line 164)) (78.1.1)\n",
      "Requirement already satisfied: shapely==2.1.1 in /opt/miniconda3/envs/cdp/lib/python3.12/site-packages (from -r requirements.txt (line 165)) (2.1.1)\n",
      "Requirement already satisfied: six==1.17.0 in /opt/miniconda3/envs/cdp/lib/python3.12/site-packages (from -r requirements.txt (line 166)) (1.17.0)\n",
      "Requirement already satisfied: sniffio==1.3.1 in /opt/miniconda3/envs/cdp/lib/python3.12/site-packages (from -r requirements.txt (line 167)) (1.3.1)\n",
      "Requirement already satisfied: soupsieve==2.7 in /opt/miniconda3/envs/cdp/lib/python3.12/site-packages (from -r requirements.txt (line 168)) (2.7)\n",
      "Requirement already satisfied: SQLAlchemy==2.0.41 in /opt/miniconda3/envs/cdp/lib/python3.12/site-packages (from -r requirements.txt (line 169)) (2.0.41)\n",
      "Requirement already satisfied: sqlglot==26.26.0 in /opt/miniconda3/envs/cdp/lib/python3.12/site-packages (from -r requirements.txt (line 170)) (26.26.0)\n",
      "Requirement already satisfied: stack-data==0.6.3 in /opt/miniconda3/envs/cdp/lib/python3.12/site-packages (from -r requirements.txt (line 171)) (0.6.3)\n",
      "Requirement already satisfied: terminado==0.18.1 in /opt/miniconda3/envs/cdp/lib/python3.12/site-packages (from -r requirements.txt (line 172)) (0.18.1)\n",
      "Requirement already satisfied: threadpoolctl==3.6.0 in /opt/miniconda3/envs/cdp/lib/python3.12/site-packages (from -r requirements.txt (line 173)) (3.6.0)\n",
      "Requirement already satisfied: tinycss2==1.4.0 in /opt/miniconda3/envs/cdp/lib/python3.12/site-packages (from -r requirements.txt (line 174)) (1.4.0)\n",
      "Requirement already satisfied: tornado==6.5.1 in /opt/miniconda3/envs/cdp/lib/python3.12/site-packages (from -r requirements.txt (line 175)) (6.5.1)\n",
      "Requirement already satisfied: tqdm==4.67.1 in /opt/miniconda3/envs/cdp/lib/python3.12/site-packages (from -r requirements.txt (line 176)) (4.67.1)\n",
      "Requirement already satisfied: traitlets==5.14.3 in /opt/miniconda3/envs/cdp/lib/python3.12/site-packages (from -r requirements.txt (line 177)) (5.14.3)\n",
      "Requirement already satisfied: traittypes==0.2.1 in /opt/miniconda3/envs/cdp/lib/python3.12/site-packages (from -r requirements.txt (line 178)) (0.2.1)\n",
      "Requirement already satisfied: types-python-dateutil==2.9.0.20250516 in /opt/miniconda3/envs/cdp/lib/python3.12/site-packages (from -r requirements.txt (line 179)) (2.9.0.20250516)\n",
      "Requirement already satisfied: typing-inspection==0.4.1 in /opt/miniconda3/envs/cdp/lib/python3.12/site-packages (from -r requirements.txt (line 180)) (0.4.1)\n",
      "Requirement already satisfied: typing_extensions==4.13.2 in /opt/miniconda3/envs/cdp/lib/python3.12/site-packages (from -r requirements.txt (line 181)) (4.13.2)\n",
      "Requirement already satisfied: tzdata==2025.2 in /opt/miniconda3/envs/cdp/lib/python3.12/site-packages (from -r requirements.txt (line 182)) (2025.2)\n",
      "Requirement already satisfied: uri-template==1.3.0 in /opt/miniconda3/envs/cdp/lib/python3.12/site-packages (from -r requirements.txt (line 183)) (1.3.0)\n",
      "Requirement already satisfied: urllib3==2.4.0 in /opt/miniconda3/envs/cdp/lib/python3.12/site-packages (from -r requirements.txt (line 184)) (2.4.0)\n",
      "Requirement already satisfied: uvicorn==0.35.0 in /opt/miniconda3/envs/cdp/lib/python3.12/site-packages (from -r requirements.txt (line 185)) (0.35.0)\n",
      "Requirement already satisfied: wasmtime==33.0.0 in /opt/miniconda3/envs/cdp/lib/python3.12/site-packages (from -r requirements.txt (line 186)) (33.0.0)\n",
      "Requirement already satisfied: wcwidth==0.2.13 in /opt/miniconda3/envs/cdp/lib/python3.12/site-packages (from -r requirements.txt (line 187)) (0.2.13)\n",
      "Requirement already satisfied: webcolors==24.11.1 in /opt/miniconda3/envs/cdp/lib/python3.12/site-packages (from -r requirements.txt (line 188)) (24.11.1)\n",
      "Requirement already satisfied: webencodings==0.5.1 in /opt/miniconda3/envs/cdp/lib/python3.12/site-packages (from -r requirements.txt (line 189)) (0.5.1)\n",
      "Requirement already satisfied: websocket-client==1.8.0 in /opt/miniconda3/envs/cdp/lib/python3.12/site-packages (from -r requirements.txt (line 190)) (1.8.0)\n",
      "Requirement already satisfied: Werkzeug==3.1.3 in /opt/miniconda3/envs/cdp/lib/python3.12/site-packages (from -r requirements.txt (line 191)) (3.1.3)\n",
      "Requirement already satisfied: wheel==0.45.1 in /opt/miniconda3/envs/cdp/lib/python3.12/site-packages (from -r requirements.txt (line 192)) (0.45.1)\n",
      "Requirement already satisfied: whitebox==2.3.6 in /opt/miniconda3/envs/cdp/lib/python3.12/site-packages (from -r requirements.txt (line 193)) (2.3.6)\n",
      "Requirement already satisfied: whiteboxgui==2.3.0 in /opt/miniconda3/envs/cdp/lib/python3.12/site-packages (from -r requirements.txt (line 194)) (2.3.0)\n",
      "Requirement already satisfied: widgetsnbextension==4.0.14 in /opt/miniconda3/envs/cdp/lib/python3.12/site-packages (from -r requirements.txt (line 195)) (4.0.14)\n",
      "Requirement already satisfied: xarray==2025.6.1 in /opt/miniconda3/envs/cdp/lib/python3.12/site-packages (from -r requirements.txt (line 196)) (2025.6.1)\n",
      "Requirement already satisfied: xyzservices==2025.4.0 in /opt/miniconda3/envs/cdp/lib/python3.12/site-packages (from -r requirements.txt (line 197)) (2025.4.0)\n",
      "Note: you may need to restart the kernel to use updated packages.\n"
     ]
    }
   ],
   "source": [
    "pip install -r requirements.txt"
   ]
  },
  {
   "cell_type": "code",
   "execution_count": 3,
   "id": "0e2e6051",
   "metadata": {},
   "outputs": [],
   "source": [
    "# the bare minimum\n",
    "import matplotlib.pyplot as plt  # for plotting\n",
    "import geopandas as gpd  # for geospatial data handling\n",
    "from matplotlib.lines import Line2D\n",
    "import matplotlib.colors as mcolors\n",
    "\n",
    "# more advanced\n",
    "from lonboard._map import Map\n",
    "from lonboard._layer import PolygonLayer  # for mapping in 3D\n",
    "from lonboard.colormap import (\n",
    "    apply_categorical_cmap,\n",
    "    apply_continuous_cmap,\n",
    ")  # for assigning colors\n",
    "from palettable.colorbrewer.sequential import PuRd_9  # for color palettes\n",
    "from matplotlib.colors import LogNorm  # for logarithmic normalization\n",
    "import pygwalker as pyg  # for creating interactive data visualizations"
   ]
  },
  {
   "cell_type": "code",
   "execution_count": 13,
   "id": "4e98328d",
   "metadata": {},
   "outputs": [],
   "source": [
    "gdf = gpd.read_file(\n",
    "    \"/Users/alinetheo/Documents/Columbia/Summer 2025/Mapping Systems/Data Sets/New York City's Flood Vulnerability Index_20250709\"\n",
    ")  # load geospatial data"
   ]
  },
  {
   "cell_type": "code",
   "execution_count": 14,
   "id": "10681950",
   "metadata": {},
   "outputs": [
    {
     "data": {
      "text/html": [
       "<div>\n",
       "<style scoped>\n",
       "    .dataframe tbody tr th:only-of-type {\n",
       "        vertical-align: middle;\n",
       "    }\n",
       "\n",
       "    .dataframe tbody tr th {\n",
       "        vertical-align: top;\n",
       "    }\n",
       "\n",
       "    .dataframe thead th {\n",
       "        text-align: right;\n",
       "    }\n",
       "</style>\n",
       "<table border=\"1\" class=\"dataframe\">\n",
       "  <thead>\n",
       "    <tr style=\"text-align: right;\">\n",
       "      <th></th>\n",
       "      <th>geoid</th>\n",
       "      <th>fshri</th>\n",
       "      <th>ss_cur</th>\n",
       "      <th>ss_50s</th>\n",
       "      <th>ss_80s</th>\n",
       "      <th>tid_20s</th>\n",
       "      <th>tid_50s</th>\n",
       "      <th>tid_80s</th>\n",
       "      <th>geometry</th>\n",
       "    </tr>\n",
       "  </thead>\n",
       "  <tbody>\n",
       "    <tr>\n",
       "      <th>0</th>\n",
       "      <td>36005008500</td>\n",
       "      <td>5</td>\n",
       "      <td>None</td>\n",
       "      <td>None</td>\n",
       "      <td>None</td>\n",
       "      <td>None</td>\n",
       "      <td>None</td>\n",
       "      <td>None</td>\n",
       "      <td>POLYGON ((-73.90183 40.81915, -73.90167 40.819...</td>\n",
       "    </tr>\n",
       "    <tr>\n",
       "      <th>1</th>\n",
       "      <td>36081008600</td>\n",
       "      <td>5</td>\n",
       "      <td>None</td>\n",
       "      <td>None</td>\n",
       "      <td>None</td>\n",
       "      <td>None</td>\n",
       "      <td>None</td>\n",
       "      <td>None</td>\n",
       "      <td>POLYGON ((-73.84472 40.68071, -73.84307 40.680...</td>\n",
       "    </tr>\n",
       "    <tr>\n",
       "      <th>2</th>\n",
       "      <td>36047058000</td>\n",
       "      <td>5</td>\n",
       "      <td>None</td>\n",
       "      <td>None</td>\n",
       "      <td>2</td>\n",
       "      <td>None</td>\n",
       "      <td>None</td>\n",
       "      <td>None</td>\n",
       "      <td>POLYGON ((-73.95776 40.60099, -73.95683 40.601...</td>\n",
       "    </tr>\n",
       "    <tr>\n",
       "      <th>3</th>\n",
       "      <td>36047053200</td>\n",
       "      <td>5</td>\n",
       "      <td>None</td>\n",
       "      <td>None</td>\n",
       "      <td>None</td>\n",
       "      <td>None</td>\n",
       "      <td>None</td>\n",
       "      <td>None</td>\n",
       "      <td>POLYGON ((-73.9623 40.62996, -73.96137 40.6300...</td>\n",
       "    </tr>\n",
       "    <tr>\n",
       "      <th>4</th>\n",
       "      <td>36081004500</td>\n",
       "      <td>5</td>\n",
       "      <td>2</td>\n",
       "      <td>5</td>\n",
       "      <td>5</td>\n",
       "      <td>None</td>\n",
       "      <td>None</td>\n",
       "      <td>None</td>\n",
       "      <td>POLYGON ((-73.93859 40.76682, -73.93618 40.767...</td>\n",
       "    </tr>\n",
       "  </tbody>\n",
       "</table>\n",
       "</div>"
      ],
      "text/plain": [
       "         geoid fshri ss_cur ss_50s ss_80s tid_20s tid_50s tid_80s  \\\n",
       "0  36005008500     5   None   None   None    None    None    None   \n",
       "1  36081008600     5   None   None   None    None    None    None   \n",
       "2  36047058000     5   None   None      2    None    None    None   \n",
       "3  36047053200     5   None   None   None    None    None    None   \n",
       "4  36081004500     5      2      5      5    None    None    None   \n",
       "\n",
       "                                            geometry  \n",
       "0  POLYGON ((-73.90183 40.81915, -73.90167 40.819...  \n",
       "1  POLYGON ((-73.84472 40.68071, -73.84307 40.680...  \n",
       "2  POLYGON ((-73.95776 40.60099, -73.95683 40.601...  \n",
       "3  POLYGON ((-73.9623 40.62996, -73.96137 40.6300...  \n",
       "4  POLYGON ((-73.93859 40.76682, -73.93618 40.767...  "
      ]
     },
     "execution_count": 14,
     "metadata": {},
     "output_type": "execute_result"
    }
   ],
   "source": [
    "gdf.head()"
   ]
  },
  {
   "cell_type": "code",
   "execution_count": 15,
   "id": "a8546270",
   "metadata": {},
   "outputs": [
    {
     "data": {
      "text/plain": [
       "Index(['geoid', 'fshri', 'ss_cur', 'ss_50s', 'ss_80s', 'tid_20s', 'tid_50s',\n",
       "       'tid_80s', 'geometry'],\n",
       "      dtype='object')"
      ]
     },
     "execution_count": 15,
     "metadata": {},
     "output_type": "execute_result"
    }
   ],
   "source": [
    "gdf.columns"
   ]
  },
  {
   "cell_type": "code",
   "execution_count": 16,
   "id": "23571461",
   "metadata": {},
   "outputs": [
    {
     "data": {
      "text/plain": [
       "[dtype('O'),\n",
       " dtype('O'),\n",
       " dtype('O'),\n",
       " dtype('O'),\n",
       " dtype('O'),\n",
       " dtype('O'),\n",
       " dtype('O'),\n",
       " dtype('O'),\n",
       " <geopandas.array.GeometryDtype at 0x12871b530>]"
      ]
     },
     "execution_count": 16,
     "metadata": {},
     "output_type": "execute_result"
    }
   ],
   "source": [
    "list(gdf.dtypes)"
   ]
  },
  {
   "cell_type": "code",
   "execution_count": 17,
   "id": "8b25b702",
   "metadata": {},
   "outputs": [
    {
     "data": {
      "text/plain": [
       "ss_cur\n",
       "5    73\n",
       "2    72\n",
       "4    72\n",
       "1    72\n",
       "3    72\n",
       "Name: count, dtype: int64"
      ]
     },
     "execution_count": 17,
     "metadata": {},
     "output_type": "execute_result"
    }
   ],
   "source": [
    "gdf.ss_cur.value_counts()"
   ]
  },
  {
   "cell_type": "code",
   "execution_count": 18,
   "id": "e4d48bb2",
   "metadata": {},
   "outputs": [
    {
     "data": {
      "text/plain": [
       "ss_50s\n",
       "5    104\n",
       "3    104\n",
       "1    103\n",
       "2    103\n",
       "4    103\n",
       "Name: count, dtype: int64"
      ]
     },
     "execution_count": 18,
     "metadata": {},
     "output_type": "execute_result"
    }
   ],
   "source": [
    "gdf.ss_50s.value_counts()"
   ]
  },
  {
   "cell_type": "code",
   "execution_count": 19,
   "id": "76ecd375",
   "metadata": {},
   "outputs": [
    {
     "data": {
      "text/plain": [
       "ss_80s\n",
       "5    123\n",
       "3    123\n",
       "2    122\n",
       "1    122\n",
       "4    122\n",
       "Name: count, dtype: int64"
      ]
     },
     "execution_count": 19,
     "metadata": {},
     "output_type": "execute_result"
    }
   ],
   "source": [
    "gdf.ss_80s.value_counts()"
   ]
  },
  {
   "cell_type": "code",
   "execution_count": 20,
   "id": "f3749d2e",
   "metadata": {},
   "outputs": [],
   "source": [
    "# Define the storm surge columns and time periods\n",
    "storm_surge_cols = [\"ss_cur\", \"ss_50s\", \"ss_80s\"]\n",
    "time_periods = [\"Current\", \"2050s\", \"2080s\"]\n",
    "\n",
    "# Define vulnerability categories\n",
    "vulnerability_labels = {\n",
    "    \"1\": \"Very Low\",\n",
    "    \"2\": \"Low\",\n",
    "    \"3\": \"Moderate\",\n",
    "    \"4\": \"High\",\n",
    "    \"5\": \"Very High\",\n",
    "}"
   ]
  },
  {
   "cell_type": "code",
   "execution_count": 21,
   "id": "278573b9",
   "metadata": {},
   "outputs": [],
   "source": [
    "# Define color map using custom hex codes\n",
    "custom_colors = {\n",
    "    1: \"#add8e6\",  # Light Blue\n",
    "    2: \"#dda0dd\",  # Light Purple\n",
    "    3: \"#0000ff\",  # Blue\n",
    "    4: \"#00008b\",  # Dark Blue\n",
    "    5: \"#800080\",  # Dark Purple\n",
    "}"
   ]
  },
  {
   "cell_type": "code",
   "execution_count": 22,
   "id": "77a9d9ad",
   "metadata": {},
   "outputs": [],
   "source": [
    "# Create colormap for plotting\n",
    "cmap = mcolors.ListedColormap([custom_colors[i] for i in sorted(custom_colors.keys())])\n",
    "bounds = [0.5 + i for i in range(6)]\n",
    "norm = mcolors.BoundaryNorm(bounds, cmap.N)"
   ]
  }
 ],
 "metadata": {
  "kernelspec": {
   "display_name": "cdp",
   "language": "python",
   "name": "python3"
  },
  "language_info": {
   "codemirror_mode": {
    "name": "ipython",
    "version": 3
   },
   "file_extension": ".py",
   "mimetype": "text/x-python",
   "name": "python",
   "nbconvert_exporter": "python",
   "pygments_lexer": "ipython3",
   "version": "3.12.11"
  }
 },
 "nbformat": 4,
 "nbformat_minor": 5
}
